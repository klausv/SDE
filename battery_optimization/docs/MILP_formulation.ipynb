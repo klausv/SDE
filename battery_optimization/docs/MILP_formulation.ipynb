{
 "cells": [
  {
   "cell_type": "markdown",
   "metadata": {},
   "source": [
    "# MILP Battery Optimization - Mathematical Formulation\n",
    "\n",
    "## Operations Research Formulation for Battery Storage Optimization"
   ]
  },
  {
   "cell_type": "markdown",
   "metadata": {},
   "source": [
    "## Problem Description\n",
    "\n",
    "Optimize battery sizing and operation for:\n",
    "- 150 kWp solar installation\n",
    "- 77 kW grid connection limit\n",
    "- Stavanger, Norway location\n",
    "- Maximize NPV over 15-year lifetime"
   ]
  },
  {
   "cell_type": "markdown",
   "metadata": {},
   "source": [
    "## Sets and Indices\n",
    "\n",
    "$$\\begin{align}\n",
    "T &= \\{1, 2, ..., 288\\} && \\text{Set of time periods (12 days × 24 hours)}\\\\\n",
    "M &= \\{1, 2, ..., 12\\} && \\text{Set of months}\\\\\n",
    "I &= \\{1, 2, ..., 10\\} && \\text{Set of tariff tiers}\\\\\n",
    "D &= \\{1, 2, ..., 12\\} && \\text{Set of typical days}\n",
    "\\end{align}$$"
   ]
  },
  {
   "cell_type": "markdown",
   "metadata": {},
   "source": [
    "## Decision Variables\n",
    "\n",
    "### Primary Sizing Variables\n",
    "\n",
    "$$\\begin{align}\n",
    "x_{cap} &\\in [10, 200] && \\text{Battery capacity (kWh)}\\\\\n",
    "x_{pow} &\\in [10, 100] && \\text{Battery power rating (kW)}\n",
    "\\end{align}$$\n",
    "\n",
    "### Operational Variables\n",
    "\n",
    "For all $t \\in T$:\n",
    "\n",
    "$$\\begin{align}\n",
    "c_t &\\in [0, 100] && \\text{Charging power at time } t \\text{ (kW)}\\\\\n",
    "d_t &\\in [0, 100] && \\text{Discharging power at time } t \\text{ (kW)}\\\\\n",
    "s_t &\\in [0, 200] && \\text{State of charge at time } t \\text{ (kWh)}\\\\\n",
    "g^{imp}_t &\\in \\mathbb{R}^+ && \\text{Grid import at time } t \\text{ (kW)}\\\\\n",
    "g^{exp}_t &\\in [0, 77] && \\text{Grid export at time } t \\text{ (kW)}\\\\\n",
    "\\ell_t &\\in \\mathbb{R}^+ && \\text{Curtailed PV at time } t \\text{ (kW)}\n",
    "\\end{align}$$\n",
    "\n",
    "### Binary Variables\n",
    "\n",
    "$$\\begin{align}\n",
    "\\delta_t &\\in \\{0,1\\} && \\text{Charging indicator (1 if charging)} && \\forall t \\in T\\\\\n",
    "\\tau_{m,i} &\\in \\{0,1\\} && \\text{Tariff tier selection} && \\forall m \\in M, i \\in I\n",
    "\\end{align}$$"
   ]
  },
  {
   "cell_type": "markdown",
   "metadata": {},
   "source": [
    "## Objective Function\n",
    "\n",
    "### Maximize Net Present Value:\n",
    "\n",
    "$$\\max Z = \\sum_{y=1}^{15} \\frac{R_y \\cdot (1 - 0.02y)}{(1 + r)^y} - I$$\n",
    "\n",
    "Where:\n",
    "- Investment cost: $I = x_{cap} \\cdot 3000$ NOK\n",
    "- Discount rate: $r = 0.05$\n",
    "- Annual degradation: 2%\n",
    "\n",
    "### Annual Revenue Components:\n",
    "\n",
    "$$R_y = R^{arb} + R^{tariff} + R^{curt}$$\n",
    "\n",
    "$$\\begin{align}\n",
    "R^{arb} &= \\sum_{t \\in T} (d_t - c_t) \\cdot p_t \\cdot \\frac{365}{|T|/24} && \\text{Energy arbitrage}\\\\\n",
    "R^{tariff} &= \\sum_{m \\in M} \\text{TariffSaving}_m && \\text{Power tariff reduction}\\\\\n",
    "R^{curt} &= \\sum_{t \\in T} \\ell_t \\cdot p_t \\cdot 0.9 \\cdot \\frac{365}{|T|/24} && \\text{Avoided curtailment}\n",
    "\\end{align}$$"
   ]
  },
  {
   "cell_type": "markdown",
   "metadata": {},
   "source": [
    "## Constraints\n",
    "\n",
    "### 1. C-rate Constraints\n",
    "\n",
    "$$0.25 \\cdot x_{cap} \\leq x_{pow} \\leq 1.0 \\cdot x_{cap}$$\n",
    "\n",
    "### 2. Power Limits\n",
    "\n",
    "$$\\begin{align}\n",
    "c_t &\\leq x_{pow} && \\forall t \\in T\\\\\n",
    "d_t &\\leq x_{pow} && \\forall t \\in T\n",
    "\\end{align}$$\n",
    "\n",
    "### 3. State of Charge Bounds\n",
    "\n",
    "$$0.1 \\cdot x_{cap} \\leq s_t \\leq 0.9 \\cdot x_{cap} \\quad \\forall t \\in T$$\n",
    "\n",
    "### 4. Mutual Exclusion (Big-M Method)\n",
    "\n",
    "$$\\begin{align}\n",
    "c_t &\\leq M \\cdot \\delta_t && \\forall t \\in T\\\\\n",
    "d_t &\\leq M \\cdot (1 - \\delta_t) && \\forall t \\in T\n",
    "\\end{align}$$\n",
    "\n",
    "Where $M = 1000$ (sufficiently large constant)"
   ]
  },
  {
   "cell_type": "markdown",
   "metadata": {},
   "source": [
    "### 5. Energy Balance\n",
    "\n",
    "$$PV_t - L_t + g^{imp}_t - g^{exp}_t - \\ell_t = c_t - d_t \\quad \\forall t \\in T$$\n",
    "\n",
    "### 6. State of Charge Dynamics\n",
    "\n",
    "$$\\begin{align}\n",
    "s_t &= s_{t-1} + \\eta \\cdot c_t - \\frac{d_t}{\\eta} && \\forall t \\in T \\setminus \\{1\\}\\\\\n",
    "s_1 &= 0.5 \\cdot x_{cap} && \\text{(Initial SOC)}\n",
    "\\end{align}$$\n",
    "\n",
    "Where $\\eta = \\sqrt{0.9} \\approx 0.949$ (one-way efficiency)\n",
    "\n",
    "### 7. Cyclic SOC Constraint\n",
    "\n",
    "$$s_{24d} \\leq s_{24(d-1)+1} \\quad \\forall d \\in D$$\n",
    "\n",
    "Ensures no net energy gain per day."
   ]
  },
  {
   "cell_type": "markdown",
   "metadata": {},
   "source": [
    "### 8. Minimum Utilization\n",
    "\n",
    "$$\\sum_{t \\in T} d_t \\geq 0.5 \\cdot x_{cap} \\cdot |D|$$\n",
    "\n",
    "Ensures at least 0.5 cycles per day (182 cycles/year).\n",
    "\n",
    "### 9. Maximum Daily Depth of Discharge\n",
    "\n",
    "$$\\sum_{t=24(d-1)+1}^{24d} d_t \\leq 0.8 \\cdot x_{cap} \\quad \\forall d \\in D$$\n",
    "\n",
    "Limits daily DOD to 80% for battery longevity.\n",
    "\n",
    "### 10. Monthly Peak Power\n",
    "\n",
    "$$P^{peak}_m \\geq g^{imp}_t \\quad \\forall t \\in T_m, \\forall m \\in M$$"
   ]
  },
  {
   "cell_type": "markdown",
   "metadata": {},
   "source": [
    "### 11. Tariff Tier Selection\n",
    "\n",
    "$$\\sum_{i \\in I} \\tau_{m,i} = 1 \\quad \\forall m \\in M$$\n",
    "\n",
    "Exactly one tariff tier must be selected per month.\n",
    "\n",
    "### 12. Tariff-Peak Linkage\n",
    "\n",
    "For tier boundaries $B = \\{2, 5, 10, 15, 20, 25, 50, 75, 100, 200\\}$ kW:\n",
    "\n",
    "$$\\begin{align}\n",
    "P^{peak}_m &\\leq B_i + M(1 - \\tau_{m,i}) && \\forall m \\in M, i \\in I\\\\\n",
    "P^{peak}_m &\\geq B_{i-1} \\cdot \\tau_{m,i} && \\forall m \\in M, i \\in I \\setminus \\{1\\}\n",
    "\\end{align}$$"
   ]
  },
  {
   "cell_type": "markdown",
   "metadata": {},
   "source": [
    "## Problem Classification\n",
    "\n",
    "This is a **Mixed-Integer Linear Program (MILP)**:\n",
    "\n",
    "| Property | Description |\n",
    "|----------|-------------|\n",
    "| **Objective** | Linear (NPV maximization) |\n",
    "| **Constraints** | All linear or linearized |\n",
    "| **Variables** | Mixed (continuous + binary) |\n",
    "| **Structure** | Time-indexed, multi-period |\n",
    "| **Complexity** | NP-hard (due to integer variables) |"
   ]
  },
  {
   "cell_type": "markdown",
   "metadata": {},
   "source": [
    "## Computational Properties\n",
    "\n",
    "| Metric | Value |\n",
    "|--------|-------|\n",
    "| **Decision variables** | ~3,500 |\n",
    "| **Binary variables** | ~300 |\n",
    "| **Constraints** | ~4,000 |\n",
    "| **Non-zeros** | ~15,000 |\n",
    "| **Solution method** | Branch-and-bound (CBC) |\n",
    "| **Typical solve time** | 30-60 seconds |\n",
    "| **Optimality gap** | < 0.1% |"
   ]
  },
  {
   "cell_type": "markdown",
   "metadata": {},
   "source": [
    "## Key Modeling Decisions\n",
    "\n",
    "### Big-M Method\n",
    "- Used to linearize the mutual exclusion constraint\n",
    "- Avoids bilinear terms $c_t \\cdot d_t = 0$\n",
    "- $M = 1000$ chosen as sufficiently large\n",
    "\n",
    "### Piecewise Linear Tariffs\n",
    "- Progressive tariff structure handled via binary selection\n",
    "- Each month selects exactly one tier\n",
    "- Linear constraints link peak demand to tier\n",
    "\n",
    "### Time Aggregation\n",
    "- 12 typical days (one per month)\n",
    "- Scales to annual via factor 365/12\n",
    "- Balances accuracy vs. computational tractability\n",
    "\n",
    "### Efficiency Model\n",
    "- Round-trip efficiency: $\\eta^2 = 0.9$\n",
    "- One-way: $\\eta = \\sqrt{0.9}$\n",
    "- Applied asymmetrically to charge/discharge"
   ]
  },
  {
   "cell_type": "markdown",
   "metadata": {},
   "source": [
    "## Solution Characteristics\n",
    "\n",
    "### Typical Optimal Solution:\n",
    "- **Capacity:** 80-100 kWh\n",
    "- **Power:** 40-60 kW\n",
    "- **C-rate:** 0.5-0.6C\n",
    "- **Daily cycles:** 0.5-1.0\n",
    "- **Annual cycles:** 180-250\n",
    "\n",
    "### Economic Performance:\n",
    "- **Break-even battery cost:** ~3,500 NOK/kWh\n",
    "- **NPV @ 3,000 NOK/kWh:** Positive\n",
    "- **Payback period:** 6-8 years\n",
    "- **IRR:** 8-12%"
   ]
  },
  {
   "cell_type": "code",
   "execution_count": null,
   "metadata": {},
   "outputs": [],
   "source": [
    "# Python implementation using OR-Tools\n",
    "from ortools.linear_solver import pywraplp\n",
    "\n",
    "def create_milp_model():\n",
    "    \"\"\"Create the MILP model as formulated above\"\"\"\n",
    "    solver = pywraplp.Solver.CreateSolver('CBC')\n",
    "    \n",
    "    # Decision variables\n",
    "    x_cap = solver.NumVar(10, 200, 'battery_capacity')\n",
    "    x_pow = solver.NumVar(10, 100, 'battery_power')\n",
    "    \n",
    "    # C-rate constraint\n",
    "    solver.Add(x_pow >= 0.25 * x_cap)\n",
    "    solver.Add(x_pow <= 1.0 * x_cap)\n",
    "    \n",
    "    # ... rest of model implementation\n",
    "    \n",
    "    return solver"
   ]
  }
 ],
 "metadata": {
  "kernelspec": {
   "display_name": "Python 3",
   "language": "python",
   "name": "python3"
  },
  "language_info": {
   "codemirror_mode": {
    "name": "ipython",
    "version": 3
   },
   "file_extension": ".py",
   "mimetype": "text/x-python",
   "name": "python",
   "nbconvert_exporter": "python",
   "pygments_lexer": "ipython3",
   "version": "3.9.0"
  }
 },
 "nbformat": 4,
 "nbformat_minor": 4
}